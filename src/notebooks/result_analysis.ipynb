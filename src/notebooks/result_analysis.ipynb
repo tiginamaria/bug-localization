{
 "cells": [
  {
   "cell_type": "code",
   "execution_count": 1,
   "id": "initial_id",
   "metadata": {
    "ExecuteTime": {
     "end_time": "2024-05-19T22:15:03.881121687Z",
     "start_time": "2024-05-19T22:15:03.606408259Z"
    }
   },
   "outputs": [],
   "source": [
    "import pandas as pd\n",
    "import ast\n",
    "import numpy as np"
   ]
  },
  {
   "cell_type": "code",
   "execution_count": 267,
   "id": "294a673d-286e-409f-bf4a-32e6bfde878b",
   "metadata": {},
   "outputs": [],
   "source": [
    "def recall_at_k(expected_files, actual_files, k):\n",
    "     return len(set(actual_files[:k]) & set(expected_files)) / len(expected_files)\n",
    "\n",
    "def precision_at_k(expected_files, actual_files, k):\n",
    "    return len(set(actual_files[:k]) & set(expected_files)) / k\n",
    "\n",
    "def f1(expected_files, actual_files, k):\n",
    "    TP_set = set(expected_files) & set(actual_files)\n",
    "    FN_set = set(expected_files) - set(actual_files)\n",
    "    FP_set = set(actual_files) - set(expected_files)\n",
    "    \n",
    "    TP = len(TP_set)\n",
    "    FN = len(FN_set)\n",
    "    FP = len(FP_set)\n",
    "    \n",
    "    # Compute precision, recall, and F1-score\n",
    "    P = TP / (TP + FP)\n",
    "    R = TP / (TP + FN)\n",
    "    F1 = 2 * P * R / (P + R)\n",
    "    return F1\n",
    "\n",
    "def get_expected_files_indexes(expected_files, actual_files) -> np.ndarray[int]:\n",
    "    relevant = np.isin(expected_files, actual_files).astype(int)\n",
    "    return np.where(relevant == 1)[0]"
   ]
  },
  {
   "cell_type": "code",
   "execution_count": 268,
   "id": "5d25aa53-a628-423f-acc4-f15d1b68cedb",
   "metadata": {},
   "outputs": [],
   "source": [
    "def calc_search_metrics(expected_files, actual_files):\n",
    "    if len(expected_files) == 1:\n",
    "        k = 1\n",
    "    else:\n",
    "        k = 2\n",
    "    if len(set(actual_files) & set(expected_files)) == 0:\n",
    "        return {\n",
    "            'R@k': 0,\n",
    "            'P@k': 0,\n",
    "            'f1': 0,\n",
    "        }\n",
    "        \n",
    "    metrics = {}\n",
    "    metrics['R@k'] = recall_at_k(expected_files, actual_files, k)\n",
    "    metrics['P@k'] = precision_at_k(expected_files, actual_files, k)\n",
    "    metrics['f1'] = f1(expected_files, actual_files, k)\n",
    "    return metrics"
   ]
  },
  {
   "cell_type": "code",
   "execution_count": 342,
   "id": "5b5dd2bf-bea6-40ad-a2e6-32a22f0e1a15",
   "metadata": {},
   "outputs": [],
   "source": [
    "def calc_retrive_metrics(expected_files, actual_files, distances):\n",
    "    expected_files_indexes = get_expected_files_indexes(expected_files, actual_files)\n",
    "    if len(expected_files_indexes) == 0:\n",
    "        return {\n",
    "            \"first_expected_pos\": None,\n",
    "            \"last_expected_pos\": None,\n",
    "            \"first_expected_distance\": None,\n",
    "            \"last_expected_distance\": None\n",
    "        }\n",
    "    metrics = {\n",
    "        \"first_expected_pos\": expected_files_indexes[0] / len(actual_files),\n",
    "        \"last_expected_pos\": expected_files_indexes[-1] / len(actual_files),\n",
    "        \"first_expected_index\": expected_files_indexes[0],\n",
    "        \"last_expected_index\": expected_files_indexes[-1],\n",
    "        \"first_expected_distance\": distances[expected_files_indexes[0]],\n",
    "        \"last_expected_distance\": distances[expected_files_indexes[-1]],\n",
    "    }\n",
    "    return metrics"
   ]
  },
  {
   "cell_type": "code",
   "execution_count": 343,
   "id": "fc0a890c-3d22-4aa5-af03-a03f79e721ca",
   "metadata": {},
   "outputs": [],
   "source": [
    "def get_chat_metrics(results_path) -> pd.DataFrame:\n",
    "    df = pd.read_csv(results_path)\n",
    "    df['changed_files'] = df['changed_files'].map(lambda lst: ast.literal_eval(lst))\n",
    "    df['final_files'] = df['final_files'].map(lambda lst: ast.literal_eval(lst))\n",
    "    df['all_generated_files'] = df['all_generated_files'].map(lambda lst: ast.literal_eval(lst))\n",
    "\n",
    "    metrics = []\n",
    "    for i, row in df.iterrows():\n",
    "        expected_files = row['changed_files']\n",
    "        actual_files = row['final_files']\n",
    "        m = calc_search_metrics(expected_files, actual_files)\n",
    "        m['time_s'] = row['time_ms'] / 1000\n",
    "        m['batches_count'] = row['batches_count']\n",
    "        m['empty_output'] = 1 if len(row['final_files']) == 0 else 0\n",
    "        m['irrelevant_output'] = 1 if len(set(row['changed_files']) & set(row['final_files'])) == 0 else 0\n",
    "        m['wrong_output'] = 1 if len(set(row['all_generated_files']) - set(row['final_files'])) > 0 else 0\n",
    "        metrics.append(m)\n",
    "\n",
    "    return pd.DataFrame(metrics)"
   ]
  },
  {
   "cell_type": "code",
   "execution_count": 359,
   "id": "6bdbf89b-264e-4171-b9dc-a25abd9815af",
   "metadata": {},
   "outputs": [],
   "source": [
    "import re\n",
    "\n",
    "def add_commas_after_second_tick(s):\n",
    "    backtick_positions = [pos for pos, char in enumerate(s) if char == \"'\"]\n",
    "    for i in range(len(backtick_positions) // 2):\n",
    "        s = s[:backtick_positions[i * 2 + 1] + 1 + i] + ',' + s[backtick_positions[i * 2 + 1] + 1 + i:]\n",
    "    return s\n",
    "\n",
    "def get_emb_metrics(results_path) -> pd.DataFrame:\n",
    "    df = pd.read_csv(results_path)\n",
    "    try:\n",
    "        df['final_files'] = df['final_files'].map(lambda lst: ast.literal_eval(lst))\n",
    "        df['rank_scores'] = df['rank_scores'].map(lambda lst: ast.literal_eval(lst))\n",
    "        df['changed_files'] = df['changed_files'].map(lambda lst: ast.literal_eval(lst))\n",
    "    except Exception as e:\n",
    "        df['final_files'] = df['final_files'].map(lambda lst: ast.literal_eval(add_commas_after_second_tick(lst.replace('\\n', '').replace(' ... ', ' '))))\n",
    "        df['rank_scores'] = df['rank_scores'].map(lambda lst: ast.literal_eval(re.sub(r'\\s+', ' ', lst.replace('\\n', '')).replace(' ', ', ')))\n",
    "        df['changed_files'] = df['changed_files'].map(lambda lst: ast.literal_eval(lst))\n",
    "\n",
    "    metrics = []\n",
    "    for i, row in df.iterrows():\n",
    "        expected_files = row['changed_files']\n",
    "        actual_files = row['final_files']\n",
    "        m = {}\n",
    "        search_m = calc_search_metrics(expected_files, actual_files)\n",
    "        m.update(search_m)\n",
    "        retrive_m = calc_retrive_metrics(expected_files, actual_files, row['rank_scores'])\n",
    "        m.update(retrive_m)\n",
    "        m['time_s'] = row['time_ms'] / 1000\n",
    "        metrics.append(m)\n",
    "\n",
    "    return pd.DataFrame(metrics)"
   ]
  },
  {
   "cell_type": "markdown",
   "id": "e57ad695-4bb7-43bc-816b-918f27f189a2",
   "metadata": {},
   "source": [
    "# Embedding-based baselines"
   ]
  },
  {
   "cell_type": "markdown",
   "id": "ddc12887-d267-408f-992d-b03ad1b75e58",
   "metadata": {},
   "source": [
    "## tfidf_nltk_cosine"
   ]
  },
  {
   "cell_type": "code",
   "execution_count": 360,
   "id": "71df0833-fa99-4cb4-ac9e-37dabc252036",
   "metadata": {},
   "outputs": [
    {
     "data": {
      "text/plain": [
       "R@k                        0.134377\n",
       "P@k                        0.178030\n",
       "f1                         0.069601\n",
       "first_expected_pos         0.003790\n",
       "last_expected_pos          0.019060\n",
       "first_expected_index       0.166667\n",
       "last_expected_index        1.719697\n",
       "first_expected_distance    0.199603\n",
       "last_expected_distance     0.177596\n",
       "time_s                     4.650163\n",
       "dtype: float64"
      ]
     },
     "execution_count": 360,
     "metadata": {},
     "output_type": "execute_result"
    }
   ],
   "source": [
    "df_emb_metrics['tfidf_nltk_cosine'] = get_emb_metrics('/home/tigina/bug-localization/output/tfidf_nltk_cosine/results.csv')\n",
    "df_emb_metrics['tfidf_nltk_cosine'].dropna().mean()"
   ]
  },
  {
   "cell_type": "markdown",
   "id": "746adc8f-5698-43c6-94cc-11ab07f87349",
   "metadata": {},
   "source": [
    "## tfidf_bpe_cosine"
   ]
  },
  {
   "cell_type": "code",
   "execution_count": 362,
   "id": "af09cbd4-3c46-4613-9b53-e330aeda23c8",
   "metadata": {},
   "outputs": [
    {
     "ename": "AttributeError",
     "evalue": "'list' object has no attribute 'replace'",
     "output_type": "error",
     "traceback": [
      "\u001b[0;31m---------------------------------------------------------------------------\u001b[0m",
      "\u001b[0;31mSyntaxError\u001b[0m                               Traceback (most recent call last)",
      "Cell \u001b[0;32mIn[359], line 13\u001b[0m, in \u001b[0;36mget_emb_metrics\u001b[0;34m(results_path)\u001b[0m\n\u001b[1;32m     12\u001b[0m df[\u001b[38;5;124m'\u001b[39m\u001b[38;5;124mfinal_files\u001b[39m\u001b[38;5;124m'\u001b[39m] \u001b[38;5;241m=\u001b[39m df[\u001b[38;5;124m'\u001b[39m\u001b[38;5;124mfinal_files\u001b[39m\u001b[38;5;124m'\u001b[39m]\u001b[38;5;241m.\u001b[39mmap(\u001b[38;5;28;01mlambda\u001b[39;00m lst: ast\u001b[38;5;241m.\u001b[39mliteral_eval(lst))\n\u001b[0;32m---> 13\u001b[0m df[\u001b[38;5;124m'\u001b[39m\u001b[38;5;124mrank_scores\u001b[39m\u001b[38;5;124m'\u001b[39m] \u001b[38;5;241m=\u001b[39m \u001b[43mdf\u001b[49m\u001b[43m[\u001b[49m\u001b[38;5;124;43m'\u001b[39;49m\u001b[38;5;124;43mrank_scores\u001b[39;49m\u001b[38;5;124;43m'\u001b[39;49m\u001b[43m]\u001b[49m\u001b[38;5;241;43m.\u001b[39;49m\u001b[43mmap\u001b[49m\u001b[43m(\u001b[49m\u001b[38;5;28;43;01mlambda\u001b[39;49;00m\u001b[43m \u001b[49m\u001b[43mlst\u001b[49m\u001b[43m:\u001b[49m\u001b[43m \u001b[49m\u001b[43mast\u001b[49m\u001b[38;5;241;43m.\u001b[39;49m\u001b[43mliteral_eval\u001b[49m\u001b[43m(\u001b[49m\u001b[43mlst\u001b[49m\u001b[43m)\u001b[49m\u001b[43m)\u001b[49m\n\u001b[1;32m     14\u001b[0m df[\u001b[38;5;124m'\u001b[39m\u001b[38;5;124mchanged_files\u001b[39m\u001b[38;5;124m'\u001b[39m] \u001b[38;5;241m=\u001b[39m df[\u001b[38;5;124m'\u001b[39m\u001b[38;5;124mchanged_files\u001b[39m\u001b[38;5;124m'\u001b[39m]\u001b[38;5;241m.\u001b[39mmap(\u001b[38;5;28;01mlambda\u001b[39;00m lst: ast\u001b[38;5;241m.\u001b[39mliteral_eval(lst))\n",
      "File \u001b[0;32m~/bug-localization/venv/lib/python3.10/site-packages/pandas/core/series.py:4691\u001b[0m, in \u001b[0;36mSeries.map\u001b[0;34m(self, arg, na_action)\u001b[0m\n\u001b[1;32m   4616\u001b[0m \u001b[38;5;250m\u001b[39m\u001b[38;5;124;03m\"\"\"\u001b[39;00m\n\u001b[1;32m   4617\u001b[0m \u001b[38;5;124;03mMap values of Series according to an input mapping or function.\u001b[39;00m\n\u001b[1;32m   4618\u001b[0m \n\u001b[0;32m   (...)\u001b[0m\n\u001b[1;32m   4689\u001b[0m \u001b[38;5;124;03mdtype: object\u001b[39;00m\n\u001b[1;32m   4690\u001b[0m \u001b[38;5;124;03m\"\"\"\u001b[39;00m\n\u001b[0;32m-> 4691\u001b[0m new_values \u001b[38;5;241m=\u001b[39m \u001b[38;5;28;43mself\u001b[39;49m\u001b[38;5;241;43m.\u001b[39;49m\u001b[43m_map_values\u001b[49m\u001b[43m(\u001b[49m\u001b[43marg\u001b[49m\u001b[43m,\u001b[49m\u001b[43m \u001b[49m\u001b[43mna_action\u001b[49m\u001b[38;5;241;43m=\u001b[39;49m\u001b[43mna_action\u001b[49m\u001b[43m)\u001b[49m\n\u001b[1;32m   4692\u001b[0m \u001b[38;5;28;01mreturn\u001b[39;00m \u001b[38;5;28mself\u001b[39m\u001b[38;5;241m.\u001b[39m_constructor(new_values, index\u001b[38;5;241m=\u001b[39m\u001b[38;5;28mself\u001b[39m\u001b[38;5;241m.\u001b[39mindex, copy\u001b[38;5;241m=\u001b[39m\u001b[38;5;28;01mFalse\u001b[39;00m)\u001b[38;5;241m.\u001b[39m__finalize__(\n\u001b[1;32m   4693\u001b[0m     \u001b[38;5;28mself\u001b[39m, method\u001b[38;5;241m=\u001b[39m\u001b[38;5;124m\"\u001b[39m\u001b[38;5;124mmap\u001b[39m\u001b[38;5;124m\"\u001b[39m\n\u001b[1;32m   4694\u001b[0m )\n",
      "File \u001b[0;32m~/bug-localization/venv/lib/python3.10/site-packages/pandas/core/base.py:921\u001b[0m, in \u001b[0;36mIndexOpsMixin._map_values\u001b[0;34m(self, mapper, na_action, convert)\u001b[0m\n\u001b[1;32m    919\u001b[0m     \u001b[38;5;28;01mreturn\u001b[39;00m arr\u001b[38;5;241m.\u001b[39mmap(mapper, na_action\u001b[38;5;241m=\u001b[39mna_action)\n\u001b[0;32m--> 921\u001b[0m \u001b[38;5;28;01mreturn\u001b[39;00m \u001b[43malgorithms\u001b[49m\u001b[38;5;241;43m.\u001b[39;49m\u001b[43mmap_array\u001b[49m\u001b[43m(\u001b[49m\u001b[43marr\u001b[49m\u001b[43m,\u001b[49m\u001b[43m \u001b[49m\u001b[43mmapper\u001b[49m\u001b[43m,\u001b[49m\u001b[43m \u001b[49m\u001b[43mna_action\u001b[49m\u001b[38;5;241;43m=\u001b[39;49m\u001b[43mna_action\u001b[49m\u001b[43m,\u001b[49m\u001b[43m \u001b[49m\u001b[43mconvert\u001b[49m\u001b[38;5;241;43m=\u001b[39;49m\u001b[43mconvert\u001b[49m\u001b[43m)\u001b[49m\n",
      "File \u001b[0;32m~/bug-localization/venv/lib/python3.10/site-packages/pandas/core/algorithms.py:1743\u001b[0m, in \u001b[0;36mmap_array\u001b[0;34m(arr, mapper, na_action, convert)\u001b[0m\n\u001b[1;32m   1742\u001b[0m \u001b[38;5;28;01mif\u001b[39;00m na_action \u001b[38;5;129;01mis\u001b[39;00m \u001b[38;5;28;01mNone\u001b[39;00m:\n\u001b[0;32m-> 1743\u001b[0m     \u001b[38;5;28;01mreturn\u001b[39;00m \u001b[43mlib\u001b[49m\u001b[38;5;241;43m.\u001b[39;49m\u001b[43mmap_infer\u001b[49m\u001b[43m(\u001b[49m\u001b[43mvalues\u001b[49m\u001b[43m,\u001b[49m\u001b[43m \u001b[49m\u001b[43mmapper\u001b[49m\u001b[43m,\u001b[49m\u001b[43m \u001b[49m\u001b[43mconvert\u001b[49m\u001b[38;5;241;43m=\u001b[39;49m\u001b[43mconvert\u001b[49m\u001b[43m)\u001b[49m\n\u001b[1;32m   1744\u001b[0m \u001b[38;5;28;01melse\u001b[39;00m:\n",
      "File \u001b[0;32mlib.pyx:2972\u001b[0m, in \u001b[0;36mpandas._libs.lib.map_infer\u001b[0;34m()\u001b[0m\n",
      "Cell \u001b[0;32mIn[359], line 13\u001b[0m, in \u001b[0;36mget_emb_metrics.<locals>.<lambda>\u001b[0;34m(lst)\u001b[0m\n\u001b[1;32m     12\u001b[0m df[\u001b[38;5;124m'\u001b[39m\u001b[38;5;124mfinal_files\u001b[39m\u001b[38;5;124m'\u001b[39m] \u001b[38;5;241m=\u001b[39m df[\u001b[38;5;124m'\u001b[39m\u001b[38;5;124mfinal_files\u001b[39m\u001b[38;5;124m'\u001b[39m]\u001b[38;5;241m.\u001b[39mmap(\u001b[38;5;28;01mlambda\u001b[39;00m lst: ast\u001b[38;5;241m.\u001b[39mliteral_eval(lst))\n\u001b[0;32m---> 13\u001b[0m df[\u001b[38;5;124m'\u001b[39m\u001b[38;5;124mrank_scores\u001b[39m\u001b[38;5;124m'\u001b[39m] \u001b[38;5;241m=\u001b[39m df[\u001b[38;5;124m'\u001b[39m\u001b[38;5;124mrank_scores\u001b[39m\u001b[38;5;124m'\u001b[39m]\u001b[38;5;241m.\u001b[39mmap(\u001b[38;5;28;01mlambda\u001b[39;00m lst: \u001b[43mast\u001b[49m\u001b[38;5;241;43m.\u001b[39;49m\u001b[43mliteral_eval\u001b[49m\u001b[43m(\u001b[49m\u001b[43mlst\u001b[49m\u001b[43m)\u001b[49m)\n\u001b[1;32m     14\u001b[0m df[\u001b[38;5;124m'\u001b[39m\u001b[38;5;124mchanged_files\u001b[39m\u001b[38;5;124m'\u001b[39m] \u001b[38;5;241m=\u001b[39m df[\u001b[38;5;124m'\u001b[39m\u001b[38;5;124mchanged_files\u001b[39m\u001b[38;5;124m'\u001b[39m]\u001b[38;5;241m.\u001b[39mmap(\u001b[38;5;28;01mlambda\u001b[39;00m lst: ast\u001b[38;5;241m.\u001b[39mliteral_eval(lst))\n",
      "File \u001b[0;32m/usr/lib/python3.10/ast.py:64\u001b[0m, in \u001b[0;36mliteral_eval\u001b[0;34m(node_or_string)\u001b[0m\n\u001b[1;32m     63\u001b[0m \u001b[38;5;28;01mif\u001b[39;00m \u001b[38;5;28misinstance\u001b[39m(node_or_string, \u001b[38;5;28mstr\u001b[39m):\n\u001b[0;32m---> 64\u001b[0m     node_or_string \u001b[38;5;241m=\u001b[39m \u001b[43mparse\u001b[49m\u001b[43m(\u001b[49m\u001b[43mnode_or_string\u001b[49m\u001b[38;5;241;43m.\u001b[39;49m\u001b[43mlstrip\u001b[49m\u001b[43m(\u001b[49m\u001b[38;5;124;43m\"\u001b[39;49m\u001b[38;5;124;43m \u001b[39;49m\u001b[38;5;130;43;01m\\t\u001b[39;49;00m\u001b[38;5;124;43m\"\u001b[39;49m\u001b[43m)\u001b[49m\u001b[43m,\u001b[49m\u001b[43m \u001b[49m\u001b[43mmode\u001b[49m\u001b[38;5;241;43m=\u001b[39;49m\u001b[38;5;124;43m'\u001b[39;49m\u001b[38;5;124;43meval\u001b[39;49m\u001b[38;5;124;43m'\u001b[39;49m\u001b[43m)\u001b[49m\n\u001b[1;32m     65\u001b[0m \u001b[38;5;28;01mif\u001b[39;00m \u001b[38;5;28misinstance\u001b[39m(node_or_string, Expression):\n",
      "File \u001b[0;32m/usr/lib/python3.10/ast.py:50\u001b[0m, in \u001b[0;36mparse\u001b[0;34m(source, filename, mode, type_comments, feature_version)\u001b[0m\n\u001b[1;32m     49\u001b[0m \u001b[38;5;66;03m# Else it should be an int giving the minor version for 3.x.\u001b[39;00m\n\u001b[0;32m---> 50\u001b[0m \u001b[38;5;28;01mreturn\u001b[39;00m \u001b[38;5;28;43mcompile\u001b[39;49m\u001b[43m(\u001b[49m\u001b[43msource\u001b[49m\u001b[43m,\u001b[49m\u001b[43m \u001b[49m\u001b[43mfilename\u001b[49m\u001b[43m,\u001b[49m\u001b[43m \u001b[49m\u001b[43mmode\u001b[49m\u001b[43m,\u001b[49m\u001b[43m \u001b[49m\u001b[43mflags\u001b[49m\u001b[43m,\u001b[49m\n\u001b[1;32m     51\u001b[0m \u001b[43m               \u001b[49m\u001b[43m_feature_version\u001b[49m\u001b[38;5;241;43m=\u001b[39;49m\u001b[43mfeature_version\u001b[49m\u001b[43m)\u001b[49m\n",
      "\u001b[0;31mSyntaxError\u001b[0m: invalid syntax. Perhaps you forgot a comma? (<unknown>, line 1)",
      "\nDuring handling of the above exception, another exception occurred:\n",
      "\u001b[0;31mAttributeError\u001b[0m                            Traceback (most recent call last)",
      "Cell \u001b[0;32mIn[362], line 1\u001b[0m\n\u001b[0;32m----> 1\u001b[0m df_emb_metrics[\u001b[38;5;124m'\u001b[39m\u001b[38;5;124mtfidf_bpe_cosine\u001b[39m\u001b[38;5;124m'\u001b[39m] \u001b[38;5;241m=\u001b[39m \u001b[43mget_emb_metrics\u001b[49m\u001b[43m(\u001b[49m\u001b[38;5;124;43m'\u001b[39;49m\u001b[38;5;124;43m/home/tigina/bug-localization/output/tfidf_bpe_cosine/results.csv\u001b[39;49m\u001b[38;5;124;43m'\u001b[39;49m\u001b[43m)\u001b[49m\n\u001b[1;32m      2\u001b[0m df_emb_metrics[\u001b[38;5;124m'\u001b[39m\u001b[38;5;124mtfidf_bpe_cosine\u001b[39m\u001b[38;5;124m'\u001b[39m]\u001b[38;5;241m.\u001b[39mdropna()\u001b[38;5;241m.\u001b[39mmean()\n",
      "Cell \u001b[0;32mIn[359], line 16\u001b[0m, in \u001b[0;36mget_emb_metrics\u001b[0;34m(results_path)\u001b[0m\n\u001b[1;32m     14\u001b[0m     df[\u001b[38;5;124m'\u001b[39m\u001b[38;5;124mchanged_files\u001b[39m\u001b[38;5;124m'\u001b[39m] \u001b[38;5;241m=\u001b[39m df[\u001b[38;5;124m'\u001b[39m\u001b[38;5;124mchanged_files\u001b[39m\u001b[38;5;124m'\u001b[39m]\u001b[38;5;241m.\u001b[39mmap(\u001b[38;5;28;01mlambda\u001b[39;00m lst: ast\u001b[38;5;241m.\u001b[39mliteral_eval(lst))\n\u001b[1;32m     15\u001b[0m \u001b[38;5;28;01mexcept\u001b[39;00m \u001b[38;5;167;01mException\u001b[39;00m \u001b[38;5;28;01mas\u001b[39;00m e:\n\u001b[0;32m---> 16\u001b[0m     df[\u001b[38;5;124m'\u001b[39m\u001b[38;5;124mfinal_files\u001b[39m\u001b[38;5;124m'\u001b[39m] \u001b[38;5;241m=\u001b[39m \u001b[43mdf\u001b[49m\u001b[43m[\u001b[49m\u001b[38;5;124;43m'\u001b[39;49m\u001b[38;5;124;43mfinal_files\u001b[39;49m\u001b[38;5;124;43m'\u001b[39;49m\u001b[43m]\u001b[49m\u001b[38;5;241;43m.\u001b[39;49m\u001b[43mmap\u001b[49m\u001b[43m(\u001b[49m\u001b[38;5;28;43;01mlambda\u001b[39;49;00m\u001b[43m \u001b[49m\u001b[43mlst\u001b[49m\u001b[43m:\u001b[49m\u001b[43m \u001b[49m\u001b[43mast\u001b[49m\u001b[38;5;241;43m.\u001b[39;49m\u001b[43mliteral_eval\u001b[49m\u001b[43m(\u001b[49m\u001b[43madd_commas_after_second_tick\u001b[49m\u001b[43m(\u001b[49m\u001b[43mlst\u001b[49m\u001b[38;5;241;43m.\u001b[39;49m\u001b[43mreplace\u001b[49m\u001b[43m(\u001b[49m\u001b[38;5;124;43m'\u001b[39;49m\u001b[38;5;130;43;01m\\n\u001b[39;49;00m\u001b[38;5;124;43m'\u001b[39;49m\u001b[43m,\u001b[49m\u001b[43m \u001b[49m\u001b[38;5;124;43m'\u001b[39;49m\u001b[38;5;124;43m'\u001b[39;49m\u001b[43m)\u001b[49m\u001b[38;5;241;43m.\u001b[39;49m\u001b[43mreplace\u001b[49m\u001b[43m(\u001b[49m\u001b[38;5;124;43m'\u001b[39;49m\u001b[38;5;124;43m ... \u001b[39;49m\u001b[38;5;124;43m'\u001b[39;49m\u001b[43m,\u001b[49m\u001b[43m \u001b[49m\u001b[38;5;124;43m'\u001b[39;49m\u001b[38;5;124;43m \u001b[39;49m\u001b[38;5;124;43m'\u001b[39;49m\u001b[43m)\u001b[49m\u001b[43m)\u001b[49m\u001b[43m)\u001b[49m\u001b[43m)\u001b[49m\n\u001b[1;32m     17\u001b[0m     df[\u001b[38;5;124m'\u001b[39m\u001b[38;5;124mrank_scores\u001b[39m\u001b[38;5;124m'\u001b[39m] \u001b[38;5;241m=\u001b[39m df[\u001b[38;5;124m'\u001b[39m\u001b[38;5;124mrank_scores\u001b[39m\u001b[38;5;124m'\u001b[39m]\u001b[38;5;241m.\u001b[39mmap(\u001b[38;5;28;01mlambda\u001b[39;00m lst: ast\u001b[38;5;241m.\u001b[39mliteral_eval(re\u001b[38;5;241m.\u001b[39msub(\u001b[38;5;124mr\u001b[39m\u001b[38;5;124m'\u001b[39m\u001b[38;5;124m\\\u001b[39m\u001b[38;5;124ms+\u001b[39m\u001b[38;5;124m'\u001b[39m, \u001b[38;5;124m'\u001b[39m\u001b[38;5;124m \u001b[39m\u001b[38;5;124m'\u001b[39m, lst\u001b[38;5;241m.\u001b[39mreplace(\u001b[38;5;124m'\u001b[39m\u001b[38;5;130;01m\\n\u001b[39;00m\u001b[38;5;124m'\u001b[39m, \u001b[38;5;124m'\u001b[39m\u001b[38;5;124m'\u001b[39m))\u001b[38;5;241m.\u001b[39mreplace(\u001b[38;5;124m'\u001b[39m\u001b[38;5;124m \u001b[39m\u001b[38;5;124m'\u001b[39m, \u001b[38;5;124m'\u001b[39m\u001b[38;5;124m, \u001b[39m\u001b[38;5;124m'\u001b[39m)))\n\u001b[1;32m     18\u001b[0m     df[\u001b[38;5;124m'\u001b[39m\u001b[38;5;124mchanged_files\u001b[39m\u001b[38;5;124m'\u001b[39m] \u001b[38;5;241m=\u001b[39m df[\u001b[38;5;124m'\u001b[39m\u001b[38;5;124mchanged_files\u001b[39m\u001b[38;5;124m'\u001b[39m]\u001b[38;5;241m.\u001b[39mmap(\u001b[38;5;28;01mlambda\u001b[39;00m lst: ast\u001b[38;5;241m.\u001b[39mliteral_eval(lst))\n",
      "File \u001b[0;32m~/bug-localization/venv/lib/python3.10/site-packages/pandas/core/series.py:4691\u001b[0m, in \u001b[0;36mSeries.map\u001b[0;34m(self, arg, na_action)\u001b[0m\n\u001b[1;32m   4611\u001b[0m \u001b[38;5;28;01mdef\u001b[39;00m \u001b[38;5;21mmap\u001b[39m(\n\u001b[1;32m   4612\u001b[0m     \u001b[38;5;28mself\u001b[39m,\n\u001b[1;32m   4613\u001b[0m     arg: Callable \u001b[38;5;241m|\u001b[39m Mapping \u001b[38;5;241m|\u001b[39m Series,\n\u001b[1;32m   4614\u001b[0m     na_action: Literal[\u001b[38;5;124m\"\u001b[39m\u001b[38;5;124mignore\u001b[39m\u001b[38;5;124m\"\u001b[39m] \u001b[38;5;241m|\u001b[39m \u001b[38;5;28;01mNone\u001b[39;00m \u001b[38;5;241m=\u001b[39m \u001b[38;5;28;01mNone\u001b[39;00m,\n\u001b[1;32m   4615\u001b[0m ) \u001b[38;5;241m-\u001b[39m\u001b[38;5;241m>\u001b[39m Series:\n\u001b[1;32m   4616\u001b[0m \u001b[38;5;250m    \u001b[39m\u001b[38;5;124;03m\"\"\"\u001b[39;00m\n\u001b[1;32m   4617\u001b[0m \u001b[38;5;124;03m    Map values of Series according to an input mapping or function.\u001b[39;00m\n\u001b[1;32m   4618\u001b[0m \n\u001b[0;32m   (...)\u001b[0m\n\u001b[1;32m   4689\u001b[0m \u001b[38;5;124;03m    dtype: object\u001b[39;00m\n\u001b[1;32m   4690\u001b[0m \u001b[38;5;124;03m    \"\"\"\u001b[39;00m\n\u001b[0;32m-> 4691\u001b[0m     new_values \u001b[38;5;241m=\u001b[39m \u001b[38;5;28;43mself\u001b[39;49m\u001b[38;5;241;43m.\u001b[39;49m\u001b[43m_map_values\u001b[49m\u001b[43m(\u001b[49m\u001b[43marg\u001b[49m\u001b[43m,\u001b[49m\u001b[43m \u001b[49m\u001b[43mna_action\u001b[49m\u001b[38;5;241;43m=\u001b[39;49m\u001b[43mna_action\u001b[49m\u001b[43m)\u001b[49m\n\u001b[1;32m   4692\u001b[0m     \u001b[38;5;28;01mreturn\u001b[39;00m \u001b[38;5;28mself\u001b[39m\u001b[38;5;241m.\u001b[39m_constructor(new_values, index\u001b[38;5;241m=\u001b[39m\u001b[38;5;28mself\u001b[39m\u001b[38;5;241m.\u001b[39mindex, copy\u001b[38;5;241m=\u001b[39m\u001b[38;5;28;01mFalse\u001b[39;00m)\u001b[38;5;241m.\u001b[39m__finalize__(\n\u001b[1;32m   4693\u001b[0m         \u001b[38;5;28mself\u001b[39m, method\u001b[38;5;241m=\u001b[39m\u001b[38;5;124m\"\u001b[39m\u001b[38;5;124mmap\u001b[39m\u001b[38;5;124m\"\u001b[39m\n\u001b[1;32m   4694\u001b[0m     )\n",
      "File \u001b[0;32m~/bug-localization/venv/lib/python3.10/site-packages/pandas/core/base.py:921\u001b[0m, in \u001b[0;36mIndexOpsMixin._map_values\u001b[0;34m(self, mapper, na_action, convert)\u001b[0m\n\u001b[1;32m    918\u001b[0m \u001b[38;5;28;01mif\u001b[39;00m \u001b[38;5;28misinstance\u001b[39m(arr, ExtensionArray):\n\u001b[1;32m    919\u001b[0m     \u001b[38;5;28;01mreturn\u001b[39;00m arr\u001b[38;5;241m.\u001b[39mmap(mapper, na_action\u001b[38;5;241m=\u001b[39mna_action)\n\u001b[0;32m--> 921\u001b[0m \u001b[38;5;28;01mreturn\u001b[39;00m \u001b[43malgorithms\u001b[49m\u001b[38;5;241;43m.\u001b[39;49m\u001b[43mmap_array\u001b[49m\u001b[43m(\u001b[49m\u001b[43marr\u001b[49m\u001b[43m,\u001b[49m\u001b[43m \u001b[49m\u001b[43mmapper\u001b[49m\u001b[43m,\u001b[49m\u001b[43m \u001b[49m\u001b[43mna_action\u001b[49m\u001b[38;5;241;43m=\u001b[39;49m\u001b[43mna_action\u001b[49m\u001b[43m,\u001b[49m\u001b[43m \u001b[49m\u001b[43mconvert\u001b[49m\u001b[38;5;241;43m=\u001b[39;49m\u001b[43mconvert\u001b[49m\u001b[43m)\u001b[49m\n",
      "File \u001b[0;32m~/bug-localization/venv/lib/python3.10/site-packages/pandas/core/algorithms.py:1743\u001b[0m, in \u001b[0;36mmap_array\u001b[0;34m(arr, mapper, na_action, convert)\u001b[0m\n\u001b[1;32m   1741\u001b[0m values \u001b[38;5;241m=\u001b[39m arr\u001b[38;5;241m.\u001b[39mastype(\u001b[38;5;28mobject\u001b[39m, copy\u001b[38;5;241m=\u001b[39m\u001b[38;5;28;01mFalse\u001b[39;00m)\n\u001b[1;32m   1742\u001b[0m \u001b[38;5;28;01mif\u001b[39;00m na_action \u001b[38;5;129;01mis\u001b[39;00m \u001b[38;5;28;01mNone\u001b[39;00m:\n\u001b[0;32m-> 1743\u001b[0m     \u001b[38;5;28;01mreturn\u001b[39;00m \u001b[43mlib\u001b[49m\u001b[38;5;241;43m.\u001b[39;49m\u001b[43mmap_infer\u001b[49m\u001b[43m(\u001b[49m\u001b[43mvalues\u001b[49m\u001b[43m,\u001b[49m\u001b[43m \u001b[49m\u001b[43mmapper\u001b[49m\u001b[43m,\u001b[49m\u001b[43m \u001b[49m\u001b[43mconvert\u001b[49m\u001b[38;5;241;43m=\u001b[39;49m\u001b[43mconvert\u001b[49m\u001b[43m)\u001b[49m\n\u001b[1;32m   1744\u001b[0m \u001b[38;5;28;01melse\u001b[39;00m:\n\u001b[1;32m   1745\u001b[0m     \u001b[38;5;28;01mreturn\u001b[39;00m lib\u001b[38;5;241m.\u001b[39mmap_infer_mask(\n\u001b[1;32m   1746\u001b[0m         values, mapper, mask\u001b[38;5;241m=\u001b[39misna(values)\u001b[38;5;241m.\u001b[39mview(np\u001b[38;5;241m.\u001b[39muint8), convert\u001b[38;5;241m=\u001b[39mconvert\n\u001b[1;32m   1747\u001b[0m     )\n",
      "File \u001b[0;32mlib.pyx:2972\u001b[0m, in \u001b[0;36mpandas._libs.lib.map_infer\u001b[0;34m()\u001b[0m\n",
      "Cell \u001b[0;32mIn[359], line 16\u001b[0m, in \u001b[0;36mget_emb_metrics.<locals>.<lambda>\u001b[0;34m(lst)\u001b[0m\n\u001b[1;32m     14\u001b[0m     df[\u001b[38;5;124m'\u001b[39m\u001b[38;5;124mchanged_files\u001b[39m\u001b[38;5;124m'\u001b[39m] \u001b[38;5;241m=\u001b[39m df[\u001b[38;5;124m'\u001b[39m\u001b[38;5;124mchanged_files\u001b[39m\u001b[38;5;124m'\u001b[39m]\u001b[38;5;241m.\u001b[39mmap(\u001b[38;5;28;01mlambda\u001b[39;00m lst: ast\u001b[38;5;241m.\u001b[39mliteral_eval(lst))\n\u001b[1;32m     15\u001b[0m \u001b[38;5;28;01mexcept\u001b[39;00m \u001b[38;5;167;01mException\u001b[39;00m \u001b[38;5;28;01mas\u001b[39;00m e:\n\u001b[0;32m---> 16\u001b[0m     df[\u001b[38;5;124m'\u001b[39m\u001b[38;5;124mfinal_files\u001b[39m\u001b[38;5;124m'\u001b[39m] \u001b[38;5;241m=\u001b[39m df[\u001b[38;5;124m'\u001b[39m\u001b[38;5;124mfinal_files\u001b[39m\u001b[38;5;124m'\u001b[39m]\u001b[38;5;241m.\u001b[39mmap(\u001b[38;5;28;01mlambda\u001b[39;00m lst: ast\u001b[38;5;241m.\u001b[39mliteral_eval(add_commas_after_second_tick(\u001b[43mlst\u001b[49m\u001b[38;5;241;43m.\u001b[39;49m\u001b[43mreplace\u001b[49m(\u001b[38;5;124m'\u001b[39m\u001b[38;5;130;01m\\n\u001b[39;00m\u001b[38;5;124m'\u001b[39m, \u001b[38;5;124m'\u001b[39m\u001b[38;5;124m'\u001b[39m)\u001b[38;5;241m.\u001b[39mreplace(\u001b[38;5;124m'\u001b[39m\u001b[38;5;124m ... \u001b[39m\u001b[38;5;124m'\u001b[39m, \u001b[38;5;124m'\u001b[39m\u001b[38;5;124m \u001b[39m\u001b[38;5;124m'\u001b[39m))))\n\u001b[1;32m     17\u001b[0m     df[\u001b[38;5;124m'\u001b[39m\u001b[38;5;124mrank_scores\u001b[39m\u001b[38;5;124m'\u001b[39m] \u001b[38;5;241m=\u001b[39m df[\u001b[38;5;124m'\u001b[39m\u001b[38;5;124mrank_scores\u001b[39m\u001b[38;5;124m'\u001b[39m]\u001b[38;5;241m.\u001b[39mmap(\u001b[38;5;28;01mlambda\u001b[39;00m lst: ast\u001b[38;5;241m.\u001b[39mliteral_eval(re\u001b[38;5;241m.\u001b[39msub(\u001b[38;5;124mr\u001b[39m\u001b[38;5;124m'\u001b[39m\u001b[38;5;124m\\\u001b[39m\u001b[38;5;124ms+\u001b[39m\u001b[38;5;124m'\u001b[39m, \u001b[38;5;124m'\u001b[39m\u001b[38;5;124m \u001b[39m\u001b[38;5;124m'\u001b[39m, lst\u001b[38;5;241m.\u001b[39mreplace(\u001b[38;5;124m'\u001b[39m\u001b[38;5;130;01m\\n\u001b[39;00m\u001b[38;5;124m'\u001b[39m, \u001b[38;5;124m'\u001b[39m\u001b[38;5;124m'\u001b[39m))\u001b[38;5;241m.\u001b[39mreplace(\u001b[38;5;124m'\u001b[39m\u001b[38;5;124m \u001b[39m\u001b[38;5;124m'\u001b[39m, \u001b[38;5;124m'\u001b[39m\u001b[38;5;124m, \u001b[39m\u001b[38;5;124m'\u001b[39m)))\n\u001b[1;32m     18\u001b[0m     df[\u001b[38;5;124m'\u001b[39m\u001b[38;5;124mchanged_files\u001b[39m\u001b[38;5;124m'\u001b[39m] \u001b[38;5;241m=\u001b[39m df[\u001b[38;5;124m'\u001b[39m\u001b[38;5;124mchanged_files\u001b[39m\u001b[38;5;124m'\u001b[39m]\u001b[38;5;241m.\u001b[39mmap(\u001b[38;5;28;01mlambda\u001b[39;00m lst: ast\u001b[38;5;241m.\u001b[39mliteral_eval(lst))\n",
      "\u001b[0;31mAttributeError\u001b[0m: 'list' object has no attribute 'replace'"
     ]
    }
   ],
   "source": [
    "df_emb_metrics['tfidf_bpe_cosine'] = get_emb_metrics('/home/tigina/bug-localization/output/tfidf_bpe_cosine/results.csv')\n",
    "df_emb_metrics['tfidf_bpe_cosine'].dropna().mean()"
   ]
  },
  {
   "cell_type": "markdown",
   "id": "448fbebc-2b14-4a56-a465-c5dd03b3a8ff",
   "metadata": {},
   "source": [
    "## codet5_cosine"
   ]
  },
  {
   "cell_type": "code",
   "execution_count": 363,
   "id": "5419271b-dcc0-4978-9720-aadd63dd8dc9",
   "metadata": {},
   "outputs": [
    {
     "data": {
      "text/plain": [
       "R@k                         0.172905\n",
       "P@k                         0.203333\n",
       "f1                          0.057408\n",
       "first_expected_pos          0.002279\n",
       "last_expected_pos           0.015942\n",
       "first_expected_index        0.220000\n",
       "last_expected_index         2.013333\n",
       "first_expected_distance     0.626312\n",
       "last_expected_distance      0.603506\n",
       "time_s                     11.754244\n",
       "dtype: float64"
      ]
     },
     "execution_count": 363,
     "metadata": {},
     "output_type": "execute_result"
    }
   ],
   "source": [
    "df_emb_metrics['codet5_cosine'] = get_emb_metrics('/home/tigina/bug-localization/output/codet5_emb/results.csv')\n",
    "df_emb_metrics['codet5_cosine'].dropna().mean()"
   ]
  },
  {
   "cell_type": "markdown",
   "id": "c0f8c5fa-d596-46a2-b66e-3b448c9dd402",
   "metadata": {},
   "source": [
    "## gte_cosine"
   ]
  },
  {
   "cell_type": "code",
   "execution_count": 365,
   "id": "d19bc26d-8312-4e06-8a6f-5d388a3a535a",
   "metadata": {},
   "outputs": [
    {
     "data": {
      "text/plain": [
       "R@k                         0.229611\n",
       "P@k                         0.290000\n",
       "f1                          0.057408\n",
       "first_expected_pos          0.002279\n",
       "last_expected_pos           0.015942\n",
       "first_expected_index        0.220000\n",
       "last_expected_index         2.013333\n",
       "first_expected_distance     0.886989\n",
       "last_expected_distance      0.881204\n",
       "time_s                     12.047388\n",
       "dtype: float64"
      ]
     },
     "execution_count": 365,
     "metadata": {},
     "output_type": "execute_result"
    }
   ],
   "source": [
    "df_emb_metrics['gte_cosine'] = get_emb_metrics('/home/tigina/bug-localization/output/gte_cosine/results.csv')\n",
    "df_emb_metrics['gte_cosine'].dropna().mean()"
   ]
  },
  {
   "cell_type": "code",
   "execution_count": 366,
   "id": "19700642-08d8-449f-80a7-a1906f78a1f8",
   "metadata": {},
   "outputs": [
    {
     "name": "stdout",
     "output_type": "stream",
     "text": [
      "tfidf_nltk_cosine & 0.13 & 0.13 & 0.07 \\\\\n",
      "tfidf_bpe_cosine & 0.31 & 0.31 & 0.12 \\\\\n",
      "codet5_cosine & 0.17 & 0.17 & 0.06 \\\\\n",
      "gte_cosine & 0.23 & 0.23 & 0.06 \\\\\n"
     ]
    }
   ],
   "source": [
    "for baseline in ['tfidf_nltk_cosine', 'tfidf_bpe_cosine', 'codet5_cosine', 'gte_cosine']:\n",
    "    m = df_emb_metrics[baseline].dropna().mean()\n",
    "    row = '{} & {:.2f} & {:.2f} & {:.2f} \\\\\\\\'.format(baseline, m['R@k'], m['R@k'], m['f1'])\n",
    "    print(row)"
   ]
  },
  {
   "cell_type": "markdown",
   "id": "83b851e3-032e-40db-a96b-f9a50bc1ca5f",
   "metadata": {},
   "source": [
    "# Chat-based baselines"
   ]
  },
  {
   "cell_type": "code",
   "execution_count": 145,
   "id": "26274e4a-2320-44be-8183-ca12483fda66",
   "metadata": {},
   "outputs": [],
   "source": [
    "df_chat_metrics = {}"
   ]
  },
  {
   "cell_type": "markdown",
   "id": "50173423-b27b-462b-b113-ff4374cdc0f4",
   "metadata": {},
   "source": [
    "## openai_chat_gpt-4-1106-preview"
   ]
  },
  {
   "cell_type": "code",
   "execution_count": 146,
   "id": "1e868695141d2663",
   "metadata": {
    "collapsed": false,
    "jupyter": {
     "outputs_hidden": false
    }
   },
   "outputs": [
    {
     "data": {
      "text/plain": [
       "R@k                  0.292573\n",
       "P@k                  0.383333\n",
       "f1                   0.391753\n",
       "time_s               6.786515\n",
       "batches_count        1.026667\n",
       "empty_output         0.026667\n",
       "irrelevant_output    0.166667\n",
       "wrong_output         0.166667\n",
       "dtype: float64"
      ]
     },
     "execution_count": 146,
     "metadata": {},
     "output_type": "execute_result"
    }
   ],
   "source": [
    "df_chat_metrics['openai_chat_gpt-4-1106-preview'] = get_chat_metrics('/home/tigina/bug-localization/output/openai_chat_gpt-4-1106-preview/results.csv')\n",
    "df_chat_metrics['openai_chat_gpt-4-1106-preview'].mean()"
   ]
  },
  {
   "cell_type": "markdown",
   "id": "e143359e-1d89-478f-9c2e-4236f1cc3635",
   "metadata": {},
   "source": [
    "## openai_chat_gpt-3.5-turbo-1106"
   ]
  },
  {
   "cell_type": "code",
   "execution_count": 147,
   "id": "fb3180ac-abb2-41fc-ac39-d94527208359",
   "metadata": {},
   "outputs": [
    {
     "data": {
      "text/plain": [
       "R@k                  0.248622\n",
       "P@k                  0.313333\n",
       "f1                   0.327193\n",
       "time_s               3.645958\n",
       "batches_count        1.886667\n",
       "empty_output         0.040000\n",
       "irrelevant_output    0.366667\n",
       "wrong_output         0.260000\n",
       "dtype: float64"
      ]
     },
     "execution_count": 147,
     "metadata": {},
     "output_type": "execute_result"
    }
   ],
   "source": [
    "df_chat_metrics['openai_chat_gpt-3.5-turbo-1106'] = get_chat_metrics('/home/tigina/bug-localization/output/openai_chat_gpt-3.5-turbo-1106/results.csv')\n",
    "df_chat_metrics['openai_chat_gpt-3.5-turbo-1106'].mean()"
   ]
  },
  {
   "cell_type": "code",
   "execution_count": null,
   "id": "bac08ed5-8d24-40b5-8f51-6564f639f916",
   "metadata": {},
   "outputs": [],
   "source": []
  }
 ],
 "metadata": {
  "kernelspec": {
   "display_name": "Python 3 (ipykernel)",
   "language": "python",
   "name": "python3"
  },
  "language_info": {
   "codemirror_mode": {
    "name": "ipython",
    "version": 3
   },
   "file_extension": ".py",
   "mimetype": "text/x-python",
   "name": "python",
   "nbconvert_exporter": "python",
   "pygments_lexer": "ipython3",
   "version": "3.10.12"
  }
 },
 "nbformat": 4,
 "nbformat_minor": 5
}
