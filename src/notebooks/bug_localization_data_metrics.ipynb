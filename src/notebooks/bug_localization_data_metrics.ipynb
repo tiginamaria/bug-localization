{
 "cells": [
  {
   "cell_type": "code",
   "execution_count": 18,
   "id": "initial_id",
   "metadata": {
    "ExecuteTime": {
     "end_time": "2024-03-29T12:38:00.192523Z",
     "start_time": "2024-03-29T12:37:57.016968Z"
    }
   },
   "outputs": [],
   "source": [
    "import datasets\n",
    "import matplotlib.pyplot as plt\n",
    "import pandas as pd\n",
    "import numpy as np\n",
    "import ast\n",
    "import os\n",
    "import tiktoken\n",
    "from src.utils.git_utils import get_changed_files_between_commits, get_repo_content_on_commit, parse_changed_files_and_lines_from_diff"
   ]
  },
  {
   "cell_type": "code",
   "execution_count": 19,
   "id": "dbcbcf5c-cf1d-434e-9d67-1efe9762058b",
   "metadata": {},
   "outputs": [
    {
     "name": "stdout",
     "output_type": "stream",
     "text": [
      "Requirement already satisfied: tiktoken in /Users/Maria.Tigina/PycharmProjects/lca-baselines/bug_localization/venv/lib/python3.10/site-packages (0.6.0)\n",
      "Requirement already satisfied: regex>=2022.1.18 in /Users/Maria.Tigina/PycharmProjects/lca-baselines/bug_localization/venv/lib/python3.10/site-packages (from tiktoken) (2023.12.25)\n",
      "Requirement already satisfied: requests>=2.26.0 in /Users/Maria.Tigina/PycharmProjects/lca-baselines/bug_localization/venv/lib/python3.10/site-packages (from tiktoken) (2.31.0)\n",
      "Requirement already satisfied: charset-normalizer<4,>=2 in /Users/Maria.Tigina/PycharmProjects/lca-baselines/bug_localization/venv/lib/python3.10/site-packages (from requests>=2.26.0->tiktoken) (3.3.2)\n",
      "Requirement already satisfied: idna<4,>=2.5 in /Users/Maria.Tigina/PycharmProjects/lca-baselines/bug_localization/venv/lib/python3.10/site-packages (from requests>=2.26.0->tiktoken) (3.6)\n",
      "Requirement already satisfied: urllib3<3,>=1.21.1 in /Users/Maria.Tigina/PycharmProjects/lca-baselines/bug_localization/venv/lib/python3.10/site-packages (from requests>=2.26.0->tiktoken) (2.1.0)\n",
      "Requirement already satisfied: certifi>=2017.4.17 in /Users/Maria.Tigina/PycharmProjects/lca-baselines/bug_localization/venv/lib/python3.10/site-packages (from requests>=2.26.0->tiktoken) (2023.11.17)\n"
     ]
    }
   ],
   "source": [
    "!pip3 install tiktoken"
   ]
  },
  {
   "cell_type": "markdown",
   "id": "83d1bf37a391e2c6",
   "metadata": {
    "collapsed": false,
    "jupyter": {
     "outputs_hidden": false
    }
   },
   "source": [
    "# Bug localization datasets metrics"
   ]
  },
  {
   "cell_type": "code",
   "execution_count": 20,
   "id": "524c8273-fe2d-447d-994f-9e8a6712bf13",
   "metadata": {},
   "outputs": [],
   "source": [
    "REPOS_PATH = '/Users/Maria.Tigina/PycharmProjects/lca-baselines/data/lca-bug-localization/repos'"
   ]
  },
  {
   "cell_type": "code",
   "execution_count": 21,
   "id": "639c047d539a159",
   "metadata": {
    "ExecuteTime": {
     "end_time": "2024-03-29T12:38:01.014168Z",
     "start_time": "2024-03-29T12:38:00.193485Z"
    },
    "collapsed": false,
    "jupyter": {
     "outputs_hidden": false
    }
   },
   "outputs": [
    {
     "name": "stderr",
     "output_type": "stream",
     "text": [
      "/Users/Maria.Tigina/PycharmProjects/lca-baselines/bug_localization/venv/lib/python3.10/site-packages/datasets/load.py:2096: FutureWarning: 'ignore_verifications' was deprecated in favor of 'verification_mode' in version 2.9.1 and will be removed in 3.0.0.\n",
      "You can remove this warning by passing 'verification_mode=no_checks' instead.\n",
      "  warnings.warn(\n"
     ]
    },
    {
     "data": {
      "application/vnd.jupyter.widget-view+json": {
       "model_id": "91dfd556175d424faed8f5040736ac15",
       "version_major": 2,
       "version_minor": 0
      },
      "text/plain": [
       "Downloading data files:   0%|          | 0/3 [00:00<?, ?it/s]"
      ]
     },
     "metadata": {},
     "output_type": "display_data"
    },
    {
     "data": {
      "application/vnd.jupyter.widget-view+json": {
       "model_id": "3f6e53ec941d43dc83f5361f82a9f76a",
       "version_major": 2,
       "version_minor": 0
      },
      "text/plain": [
       "Extracting data files:   0%|          | 0/3 [00:00<?, ?it/s]"
      ]
     },
     "metadata": {},
     "output_type": "display_data"
    },
    {
     "data": {
      "application/vnd.jupyter.widget-view+json": {
       "model_id": "cd46dd75b63041518a883636506eb72d",
       "version_major": 2,
       "version_minor": 0
      },
      "text/plain": [
       "Generating dev split:   0%|          | 0/3146 [00:00<?, ? examples/s]"
      ]
     },
     "metadata": {},
     "output_type": "display_data"
    },
    {
     "data": {
      "application/vnd.jupyter.widget-view+json": {
       "model_id": "61ec2b95d5dc470c892ea88df392dcbf",
       "version_major": 2,
       "version_minor": 0
      },
      "text/plain": [
       "Generating test split:   0%|          | 0/21 [00:00<?, ? examples/s]"
      ]
     },
     "metadata": {},
     "output_type": "display_data"
    },
    {
     "data": {
      "application/vnd.jupyter.widget-view+json": {
       "model_id": "0e61b2114dff4c73a5ac434abd6a997c",
       "version_major": 2,
       "version_minor": 0
      },
      "text/plain": [
       "Generating train split: 0 examples [00:00, ? examples/s]"
      ]
     },
     "metadata": {},
     "output_type": "display_data"
    },
    {
     "data": {
      "application/vnd.jupyter.widget-view+json": {
       "model_id": "ff76d6287089400e8a251328f27e9adc",
       "version_major": 2,
       "version_minor": 0
      },
      "text/plain": [
       "Downloading data files:   0%|          | 0/3 [00:00<?, ?it/s]"
      ]
     },
     "metadata": {},
     "output_type": "display_data"
    },
    {
     "data": {
      "application/vnd.jupyter.widget-view+json": {
       "model_id": "37163f11f8f74bfd8f5e44554d2ce230",
       "version_major": 2,
       "version_minor": 0
      },
      "text/plain": [
       "Extracting data files:   0%|          | 0/3 [00:00<?, ?it/s]"
      ]
     },
     "metadata": {},
     "output_type": "display_data"
    },
    {
     "data": {
      "application/vnd.jupyter.widget-view+json": {
       "model_id": "d4b2829e987c4f60a4f10f02b443dfbb",
       "version_major": 2,
       "version_minor": 0
      },
      "text/plain": [
       "Generating dev split:   0%|          | 0/1059 [00:00<?, ? examples/s]"
      ]
     },
     "metadata": {},
     "output_type": "display_data"
    },
    {
     "data": {
      "application/vnd.jupyter.widget-view+json": {
       "model_id": "2ae95f838d23462c8ebd650cda12dd1d",
       "version_major": 2,
       "version_minor": 0
      },
      "text/plain": [
       "Generating test split:   0%|          | 0/20 [00:00<?, ? examples/s]"
      ]
     },
     "metadata": {},
     "output_type": "display_data"
    },
    {
     "data": {
      "application/vnd.jupyter.widget-view+json": {
       "model_id": "90d9bc2f1ff14f4b883869547368df2c",
       "version_major": 2,
       "version_minor": 0
      },
      "text/plain": [
       "Generating train split: 0 examples [00:00, ? examples/s]"
      ]
     },
     "metadata": {},
     "output_type": "display_data"
    },
    {
     "data": {
      "application/vnd.jupyter.widget-view+json": {
       "model_id": "8b30d70ddd334c75ba408b5245ff43cd",
       "version_major": 2,
       "version_minor": 0
      },
      "text/plain": [
       "Downloading data files:   0%|          | 0/3 [00:00<?, ?it/s]"
      ]
     },
     "metadata": {},
     "output_type": "display_data"
    },
    {
     "data": {
      "application/vnd.jupyter.widget-view+json": {
       "model_id": "e6afd3d6fd564eefa33abb0b85d4a0c4",
       "version_major": 2,
       "version_minor": 0
      },
      "text/plain": [
       "Extracting data files:   0%|          | 0/3 [00:00<?, ?it/s]"
      ]
     },
     "metadata": {},
     "output_type": "display_data"
    },
    {
     "data": {
      "application/vnd.jupyter.widget-view+json": {
       "model_id": "098e7aef09034023b5fe339ca2192665",
       "version_major": 2,
       "version_minor": 0
      },
      "text/plain": [
       "Generating dev split:   0%|          | 0/173 [00:00<?, ? examples/s]"
      ]
     },
     "metadata": {},
     "output_type": "display_data"
    },
    {
     "data": {
      "application/vnd.jupyter.widget-view+json": {
       "model_id": "b4d8eb2320bc4e6d870b841062e9a428",
       "version_major": 2,
       "version_minor": 0
      },
      "text/plain": [
       "Generating test split:   0%|          | 0/22 [00:00<?, ? examples/s]"
      ]
     },
     "metadata": {},
     "output_type": "display_data"
    },
    {
     "data": {
      "application/vnd.jupyter.widget-view+json": {
       "model_id": "cf50b487e06a488a8294b9b626c2f680",
       "version_major": 2,
       "version_minor": 0
      },
      "text/plain": [
       "Generating train split: 0 examples [00:00, ? examples/s]"
      ]
     },
     "metadata": {},
     "output_type": "display_data"
    }
   ],
   "source": [
    "dfs = {\n",
    "    categoty: datasets.load_dataset(\n",
    "        'JetBrains-Research/lca-bug-localization', \n",
    "        categoty,\n",
    "        split='test',\n",
    "        ignore_verifications=True,\n",
    "        cache_dir='.'\n",
    "    )\n",
    "    for categoty in ['py', 'java', 'kt']\n",
    "}"
   ]
  },
  {
   "cell_type": "code",
   "execution_count": 22,
   "id": "b83f5266-05bf-41ef-9653-6cc078523f22",
   "metadata": {},
   "outputs": [
    {
     "data": {
      "text/plain": [
       "21"
      ]
     },
     "execution_count": 22,
     "metadata": {},
     "output_type": "execute_result"
    }
   ],
   "source": [
    "len(dfs['py'])"
   ]
  },
  {
   "cell_type": "code",
   "execution_count": 23,
   "id": "9cf0d963-52ea-4496-b461-6afcd78e21ea",
   "metadata": {},
   "outputs": [],
   "source": [
    "def _get_changed_lines(file_name: str, changed_lines: list[tuple, tuple], content: dict[str, str]):\n",
    "    if file_name not in content:\n",
    "        return []\n",
    "    file_lines = content[file_name].split('\\n')\n",
    "    changed_lines_content = []\n",
    "    \n",
    "    for before, after in changed_lines:\n",
    "        changed_lines_content += file_lines[before[0] - 1: before[0] + before[1] - 1]\n",
    "        \n",
    "    return changed_lines_content\n",
    "    \n",
    "def count_changed_symbols(content: dict[str, str], changed_files_and_lines: dict[str, list[tuple, tuple]]):\n",
    "    return sum(len('\\n'.join(_get_changed_lines(file_name, changed_lines, content)))\n",
    "               for file_name, changed_lines in changed_files_and_lines.items())\n",
    "\n",
    "def count_changed_tokens(content: dict[str, str], changed_files_and_lines: dict[str, list[tuple, tuple]]):\n",
    "    tokenizer = tiktoken.encoding_for_model('gpt-4')\n",
    "    return sum(len(tokenizer.encode('\\n'.join(_get_changed_lines(file_name, changed_lines, content))))\n",
    "               for file_name, changed_lines in changed_files_and_lines.items())\n",
    "\n",
    "def count_changed_lines(content: dict[str, str], changed_files_and_lines: dict[str, list[tuple, tuple]]):\n",
    "    return sum(len(_get_changed_lines(file_name, changed_lines, content)) for file_name, changed_lines in changed_files_and_lines.items())\n",
    "\n",
    "\n",
    "def count_symbols(content: dict[str, str]):\n",
    "    return sum([len(content) for content in content.values()])\n",
    "\n",
    "def count_tokens(content: dict[str, str]):\n",
    "    tokenizer = tiktoken.encoding_for_model('gpt-4')\n",
    "    return sum([len(tokenizer.encode(content)) for content in content.values()])\n",
    "    \n",
    "def count_lines(content: dict[str, str]):\n",
    "    return sum(len(content.split('\\n')) for content in content.values())"
   ]
  },
  {
   "cell_type": "code",
   "execution_count": 24,
   "id": "97eb4ea6-848b-4f68-8585-271e5f4ff577",
   "metadata": {},
   "outputs": [],
   "source": [
    "def add_stats(dp, categoty):\n",
    "    repo_path = os.path.join(REPOS_PATH, f\"{dp['repo_owner']}__{dp['repo_name']}\")\n",
    "    repo_content = get_repo_content_on_commit(repo_path, dp[\"base_sha\"], extensions=[categoty], ignore_tests = True)\n",
    "    changed_files_and_lines = parse_changed_files_and_lines_from_diff(dp['diff'])\n",
    "    \n",
    "    dp['repo_symbols_count'] = count_symbols(repo_content)\n",
    "    dp['repo_tokens_count'] = count_tokens(repo_content)\n",
    "    dp['repo_lines_count'] = count_lines(repo_content)\n",
    "    dp['repo_files_without_tests_count'] = len(repo_content)\n",
    "    \n",
    "    dp['changed_symbol_count'] = count_changed_symbols(repo_content, changed_files_and_lines)\n",
    "    dp['changed_tokens_count'] = count_changed_tokens(repo_content, changed_files_and_lines)\n",
    "    dp['changed_lines_count'] = count_changed_lines(repo_content, changed_files_and_lines)\n",
    "    dp['changed_files_without_tests_count'] = len([f for f, _ in changed_files_and_lines.items() if f in repo_content])\n",
    "\n",
    "    return dp"
   ]
  },
  {
   "cell_type": "code",
   "execution_count": 25,
   "id": "144bf8c5-84b2-4e72-b94f-9052a632a86a",
   "metadata": {},
   "outputs": [
    {
     "data": {
      "text/plain": [
       "{'id': 78,\n",
       " 'repo_owner': 'citrusframework',\n",
       " 'repo_name': 'citrus',\n",
       " 'issue_url': 'https://github.com/citrusframework/citrus/issues/418',\n",
       " 'pull_url': 'https://github.com/citrusframework/citrus/pull/488',\n",
       " 'comment_url': 'https://github.com/citrusframework/citrus/issues/418#issuecomment-424622238',\n",
       " 'links_count': 1,\n",
       " 'issue_title': 'Thread leak in TestCase.finish()',\n",
       " 'issue_body': 'Hello,\\r\\n\\r\\nI am using citrus in an automatic testing tool executing test cases every 5 minutes (in the same JVM). \\r\\n\\r\\nFollowing an upgrade from 2.6.2 to 2.7.4 I noticed a thread leak.\\r\\nInvestigations showed that it might be located in [`com.consol.citrus.TestCase::finish`](https://github.com/citrusframework/citrus/blob/master/modules/citrus-core/src/main/java/com/consol/citrus/TestCase.java#L255). \\r\\n\\r\\nIt appears that the `ScheduledExecutorService` created by `Executors.newSingleThreadScheduledExecutor()` still hold the thread until the [`shutdown`](https://docs.oracle.com/javase/8/docs/api/java/util/concurrent/ExecutorService.html#shutdown--) method is actually called. Completing the `finished` CompletableFuture will not stop the scheduled Executor itself.\\r\\n\\r\\nCan you have a look at this issue? Note that I can provide you a PR with a fix if needed, please tell me.\\r\\n\\r\\nThanks,\\r\\nBernard.\\r\\n \\r\\n',\n",
       " 'base_sha': '0f29bb1faaa3cb5cf642eb999002d520773ec7de',\n",
       " 'head_sha': 'a118d117d6054e05cc618f9f80a2f02148a3ee56',\n",
       " 'diff_url': 'https://github.com/citrusframework/citrus/compare/0f29bb1faaa3cb5cf642eb999002d520773ec7de...a118d117d6054e05cc618f9f80a2f02148a3ee56',\n",
       " 'diff': 'diff --git a/modules/citrus-core/src/main/java/com/consol/citrus/TestCase.java b/modules/citrus-core/src/main/java/com/consol/citrus/TestCase.java\\nindex 7f7c7aa15..dc4edce06 100644\\n--- a/modules/citrus-core/src/main/java/com/consol/citrus/TestCase.java\\n+++ b/modules/citrus-core/src/main/java/com/consol/citrus/TestCase.java\\n@@ -39,6 +39,9 @@ import java.util.concurrent.*;\\n  */\\n public class TestCase extends AbstractActionContainer implements BeanNameAware {\\n \\n+    /** Used to identify citrus threads pool */\\n+    protected static final String FINISHER_THREAD_PREFIX = \"citrus-finisher-\";\\n+\\n     /** Further chain of test actions to be executed in any case (success, error)\\n      * Usually used to clean up database in any case of test result */\\n     private List<TestAction> finalActions = new ArrayList<>();\\n@@ -250,21 +253,28 @@ public class TestCase extends AbstractActionContainer implements BeanNameAware {\\n         CitrusRuntimeException runtimeException = null;\\n         if (CollectionUtils.isEmpty(context.getExceptions()) &&\\n                 Optional.ofNullable(testResult).map(TestResult::isSuccess).orElse(false)) {\\n+            ScheduledExecutorService scheduledExecutor = Executors.newSingleThreadScheduledExecutor(r -> {\\n+                Thread newThread = Executors.defaultThreadFactory().newThread(r);\\n+                newThread.setName(FINISHER_THREAD_PREFIX.concat(newThread.getName()));\\n+                return newThread;\\n+            });\\n             try {\\n                 CompletableFuture<Boolean> finished = new CompletableFuture<>();\\n-                Executors.newSingleThreadScheduledExecutor()\\n-                        .scheduleAtFixedRate(() -> {\\n-                            if (isDone(context)) {\\n-                                finished.complete(true);\\n-                            } else {\\n-                                log.debug(\"Wait for test actions to finish properly ...\");\\n-                            }\\n-                        }, 100L, timeout / 10, TimeUnit.MILLISECONDS);\\n+                scheduledExecutor.scheduleAtFixedRate(() -> {\\n+                    if (isDone(context)) {\\n+                        finished.complete(true);\\n+                    } else {\\n+                        log.debug(\"Wait for test actions to finish properly ...\");\\n+                    }\\n+                }, 100L, timeout / 10, TimeUnit.MILLISECONDS);\\n \\n                 finished.get(timeout, TimeUnit.MILLISECONDS);\\n             } catch (InterruptedException | ExecutionException | TimeoutException e) {\\n                 runtimeException = new CitrusRuntimeException(\"Failed to wait for nested test actions to finish properly\", e);\\n             } finally {\\n+                if (scheduledExecutor != null) {\\n+                   scheduledExecutor.shutdown();\\n+                }\\n                 if (!CollectionUtils.isEmpty(context.getExceptions())) {\\n                     CitrusRuntimeException ex = context.getExceptions().remove(0);\\n                     testResult = TestResult.failed(getName(), testClass.getName(), ex);\\ndiff --git a/modules/citrus-core/src/test/java/com/consol/citrus/TestCaseTest.java b/modules/citrus-core/src/test/java/com/consol/citrus/TestCaseTest.java\\nindex 97d911855..9f006c64d 100644\\n--- a/modules/citrus-core/src/test/java/com/consol/citrus/TestCaseTest.java\\n+++ b/modules/citrus-core/src/test/java/com/consol/citrus/TestCaseTest.java\\n@@ -192,4 +192,16 @@ public class TestCaseTest extends AbstractTestNGUnitTest {\\n         \\n         testcase.execute(context);\\n     }\\n+\\n+    @Test\\n+    public void testThreadLeak() {\\n+        TestCase testcase = new TestCase();\\n+        testcase.setName(\"ThreadLeakTestCase\");\\n+        testcase.addTestAction(new EchoAction());\\n+        testcase.execute(context);\\n+\\n+        Set<Thread> threadSet = Thread.getAllStackTraces().keySet();\\n+        Assert.assertEquals(threadSet.stream().filter(t -> t.getName().startsWith(TestCase.FINISHER_THREAD_PREFIX)).filter(t -> t.isAlive()).count(), 0);\\n+    }\\n+\\n }',\n",
       " 'changed_files': \"['modules/citrus-core/src/main/java/com/consol/citrus/TestCase.java', 'modules/citrus-core/src/test/java/com/consol/citrus/TestCaseTest.java']\",\n",
       " 'changed_files_exts': \"{'.java': 2}\",\n",
       " 'changed_files_count': 2,\n",
       " 'java_changed_files_count': 2,\n",
       " 'kt_changed_files_count': 0,\n",
       " 'py_changed_files_count': 0,\n",
       " 'code_changed_files_count': 2,\n",
       " 'pull_create_at': '2018-09-26 07:38:17',\n",
       " 'stars': 399,\n",
       " 'language': 'Java',\n",
       " 'languages': \"{'Java': 12001798, 'Groovy': 120014, 'XSLT': 39429, 'Shell': 34409, 'HTML': 12074, 'Makefile': 1941, 'Gherkin': 798, 'Dockerfile': 107}\",\n",
       " 'license': 'Apache License 2.0',\n",
       " 'repo_symbols_count': 5489393,\n",
       " 'repo_tokens_count': 1099942,\n",
       " 'repo_lines_count': 162267,\n",
       " 'repo_files_without_tests_count': 1564,\n",
       " 'changed_symbol_count': 1608,\n",
       " 'changed_tokens_count': 260,\n",
       " 'changed_lines_count': 27,\n",
       " 'changed_files_without_tests_count': 1}"
      ]
     },
     "execution_count": 25,
     "metadata": {},
     "output_type": "execute_result"
    }
   ],
   "source": [
    "dp_stats = add_stats(dfs['java'][-2], 'java')\n",
    "dp_stats"
   ]
  },
  {
   "cell_type": "code",
   "execution_count": 40,
   "id": "7837b2d0-9768-4eab-946a-993539130a62",
   "metadata": {},
   "outputs": [
    {
     "data": {
      "text/plain": [
       "{'id': 145,\n",
       " 'repo_owner': 'swagger-api',\n",
       " 'repo_name': 'swagger-core',\n",
       " 'issue_url': 'https://github.com/swagger-api/swagger-core/issues/1578',\n",
       " 'pull_url': 'https://github.com/swagger-api/swagger-core/pull/1571',\n",
       " 'comment_url': 'https://github.com/swagger-api/swagger-core/pull/1571#issuecomment-166891241',\n",
       " 'links_count': 2,\n",
       " 'issue_title': 'byte and binary properties are wrong',\n",
       " 'issue_body': 'It looks like these two commits are backwards:\\n\\nAddition of `binary` property:\\nhttps://github.com/swagger-api/swagger-core/commit/a18409eb69d9c69435bb2f0bbec7b2540b46616d\\n\\nAddition of `byte` property:\\nhttps://github.com/swagger-api/swagger-core/commit/4e7a8014d14a8d0dd54f31f825858ae072be1061\\n',\n",
       " 'base_sha': '084a34f3db106a09f8754516c9899b8a39a544f4',\n",
       " 'head_sha': '4e7a8014d14a8d0dd54f31f825858ae072be1061',\n",
       " 'diff_url': 'https://github.com/swagger-api/swagger-core/compare/084a34f3db106a09f8754516c9899b8a39a544f4...4e7a8014d14a8d0dd54f31f825858ae072be1061',\n",
       " 'diff': 'diff --git a/modules/swagger-models/src/main/java/io/swagger/models/properties/ByteProperty.java b/modules/swagger-models/src/main/java/io/swagger/models/properties/ByteProperty.java\\nnew file mode 100644\\nindex 000000000..c80d984b9\\n--- /dev/null\\n+++ b/modules/swagger-models/src/main/java/io/swagger/models/properties/ByteProperty.java\\n@@ -0,0 +1,174 @@\\n+package io.swagger.models.properties;\\n+\\n+import io.swagger.models.Xml;\\n+\\n+import java.util.ArrayList;\\n+import java.util.List;\\n+\\n+public class ByteProperty extends AbstractProperty implements Property {\\n+    private static final String TYPE = \"string\";\\n+\\n+    private static final String FORMAT = \"byte\";\\n+\\n+    protected List<String> _enum;\\n+    protected Integer minLength = null, maxLength = null;\\n+    protected String pattern = null;\\n+    protected String _default;\\n+\\n+    public ByteProperty() {\\n+        super.type = TYPE;\\n+        super.format = FORMAT;\\n+    }\\n+\\n+    public ByteProperty _enum(String value) {\\n+        if (this._enum == null) {\\n+            this._enum = new ArrayList<String>();\\n+        }\\n+        if (!_enum.contains(value)) {\\n+            _enum.add(value);\\n+        }\\n+        return this;\\n+    }\\n+\\n+    public ByteProperty _enum(List<String> value) {\\n+        this._enum = value;\\n+        return this;\\n+    }\\n+\\n+    public static boolean isType(String type, String format) {\\n+        if (TYPE.equals(type) && FORMAT.equals(format)) {\\n+            return true;\\n+        } else {\\n+            return false;\\n+        }\\n+    }\\n+\\n+    public ByteProperty xml(Xml xml) {\\n+        this.setXml(xml);\\n+        return this;\\n+    }\\n+\\n+    public ByteProperty minLength(Integer minLength) {\\n+        this.setMinLength(minLength);\\n+        return this;\\n+    }\\n+\\n+    public ByteProperty maxLength(Integer maxLength) {\\n+        this.setMaxLength(maxLength);\\n+        return this;\\n+    }\\n+\\n+    public ByteProperty pattern(String pattern) {\\n+        this.setPattern(pattern);\\n+        return this;\\n+    }\\n+\\n+    public ByteProperty _default(String _default) {\\n+        this._default = _default;\\n+        return this;\\n+    }\\n+\\n+    public ByteProperty vendorExtension(String key, Object obj) {\\n+        this.setVendorExtension(key, obj);\\n+        return this;\\n+    }\\n+\\n+    public Integer getMinLength() {\\n+        return minLength;\\n+    }\\n+\\n+    public void setMinLength(Integer minLength) {\\n+        this.minLength = minLength;\\n+    }\\n+\\n+    public Integer getMaxLength() {\\n+        return maxLength;\\n+    }\\n+\\n+    public void setMaxLength(Integer maxLength) {\\n+        this.maxLength = maxLength;\\n+    }\\n+\\n+    public String getPattern() {\\n+        return pattern;\\n+    }\\n+\\n+    public void setPattern(String pattern) {\\n+        this.pattern = pattern;\\n+    }\\n+\\n+    public String getDefault() {\\n+        return _default;\\n+    }\\n+\\n+    public void setDefault(String _default) {\\n+        this._default = _default;\\n+    }\\n+\\n+    public List<String> getEnum() {\\n+        return _enum;\\n+    }\\n+\\n+    public void setEnum(List<String> _enum) {\\n+        this._enum = _enum;\\n+    }\\n+\\n+    @Override\\n+    public int hashCode() {\\n+        final int prime = 31;\\n+        int result = super.hashCode();\\n+        result = prime * result + ((_default == null) ? 0 : _default.hashCode());\\n+        result = prime * result + ((_enum == null) ? 0 : _enum.hashCode());\\n+        result = prime * result + ((maxLength == null) ? 0 : maxLength.hashCode());\\n+        result = prime * result + ((minLength == null) ? 0 : minLength.hashCode());\\n+        result = prime * result + ((pattern == null) ? 0 : pattern.hashCode());\\n+        return result;\\n+    }\\n+\\n+    @Override\\n+    public boolean equals(Object obj) {\\n+        if (!super.equals(obj)) {\\n+            return false;\\n+        }\\n+        if (!(obj instanceof ByteProperty)) {\\n+            return false;\\n+        }\\n+        ByteProperty other = (ByteProperty) obj;\\n+        if (_default == null) {\\n+            if (other._default != null) {\\n+                return false;\\n+            }\\n+        } else if (!_default.equals(other._default)) {\\n+            return false;\\n+        }\\n+        if (_enum == null) {\\n+            if (other._enum != null) {\\n+                return false;\\n+            }\\n+        } else if (!_enum.equals(other._enum)) {\\n+            return false;\\n+        }\\n+        if (maxLength == null) {\\n+            if (other.maxLength != null) {\\n+                return false;\\n+            }\\n+        } else if (!maxLength.equals(other.maxLength)) {\\n+            return false;\\n+        }\\n+        if (minLength == null) {\\n+            if (other.minLength != null) {\\n+                return false;\\n+            }\\n+        } else if (!minLength.equals(other.minLength)) {\\n+            return false;\\n+        }\\n+        if (pattern == null) {\\n+            if (other.pattern != null) {\\n+                return false;\\n+            }\\n+        } else if (!pattern.equals(other.pattern)) {\\n+            return false;\\n+        }\\n+        return true;\\n+    }\\n+}\\n\\\\ No newline at end of file\\ndiff --git a/modules/swagger-models/src/main/java/io/swagger/models/properties/PasswordProperty.java b/modules/swagger-models/src/main/java/io/swagger/models/properties/PasswordProperty.java\\nnew file mode 100644\\nindex 000000000..b25a654c2\\n--- /dev/null\\n+++ b/modules/swagger-models/src/main/java/io/swagger/models/properties/PasswordProperty.java\\n@@ -0,0 +1,174 @@\\n+package io.swagger.models.properties;\\n+\\n+import io.swagger.models.Xml;\\n+\\n+import java.util.ArrayList;\\n+import java.util.List;\\n+\\n+public class PasswordProperty extends AbstractProperty implements Property {\\n+    private static final String TYPE = \"string\";\\n+\\n+    private static final String FORMAT = \"password\";\\n+\\n+    protected List<String> _enum;\\n+    protected Integer minLength = null, maxLength = null;\\n+    protected String pattern = null;\\n+    protected String _default;\\n+\\n+    public PasswordProperty() {\\n+        super.type = TYPE;\\n+        super.format = FORMAT;\\n+    }\\n+\\n+    public PasswordProperty _enum(String value) {\\n+        if (this._enum == null) {\\n+            this._enum = new ArrayList<String>();\\n+        }\\n+        if (!_enum.contains(value)) {\\n+            _enum.add(value);\\n+        }\\n+        return this;\\n+    }\\n+\\n+    public PasswordProperty _enum(List<String> value) {\\n+        this._enum = value;\\n+        return this;\\n+    }\\n+\\n+    public static boolean isType(String type, String format) {\\n+        if (TYPE.equals(type) && FORMAT.equals(format)) {\\n+            return true;\\n+        } else {\\n+            return false;\\n+        }\\n+    }\\n+\\n+    public PasswordProperty xml(Xml xml) {\\n+        this.setXml(xml);\\n+        return this;\\n+    }\\n+\\n+    public PasswordProperty minLength(Integer minLength) {\\n+        this.setMinLength(minLength);\\n+        return this;\\n+    }\\n+\\n+    public PasswordProperty maxLength(Integer maxLength) {\\n+        this.setMaxLength(maxLength);\\n+        return this;\\n+    }\\n+\\n+    public PasswordProperty pattern(String pattern) {\\n+        this.setPattern(pattern);\\n+        return this;\\n+    }\\n+\\n+    public PasswordProperty _default(String _default) {\\n+        this._default = _default;\\n+        return this;\\n+    }\\n+\\n+    public PasswordProperty vendorExtension(String key, Object obj) {\\n+        this.setVendorExtension(key, obj);\\n+        return this;\\n+    }\\n+\\n+    public Integer getMinLength() {\\n+        return minLength;\\n+    }\\n+\\n+    public void setMinLength(Integer minLength) {\\n+        this.minLength = minLength;\\n+    }\\n+\\n+    public Integer getMaxLength() {\\n+        return maxLength;\\n+    }\\n+\\n+    public void setMaxLength(Integer maxLength) {\\n+        this.maxLength = maxLength;\\n+    }\\n+\\n+    public String getPattern() {\\n+        return pattern;\\n+    }\\n+\\n+    public void setPattern(String pattern) {\\n+        this.pattern = pattern;\\n+    }\\n+\\n+    public String getDefault() {\\n+        return _default;\\n+    }\\n+\\n+    public void setDefault(String _default) {\\n+        this._default = _default;\\n+    }\\n+\\n+    public List<String> getEnum() {\\n+        return _enum;\\n+    }\\n+\\n+    public void setEnum(List<String> _enum) {\\n+        this._enum = _enum;\\n+    }\\n+\\n+    @Override\\n+    public int hashCode() {\\n+        final int prime = 31;\\n+        int result = super.hashCode();\\n+        result = prime * result + ((_default == null) ? 0 : _default.hashCode());\\n+        result = prime * result + ((_enum == null) ? 0 : _enum.hashCode());\\n+        result = prime * result + ((maxLength == null) ? 0 : maxLength.hashCode());\\n+        result = prime * result + ((minLength == null) ? 0 : minLength.hashCode());\\n+        result = prime * result + ((pattern == null) ? 0 : pattern.hashCode());\\n+        return result;\\n+    }\\n+\\n+    @Override\\n+    public boolean equals(Object obj) {\\n+        if (!super.equals(obj)) {\\n+            return false;\\n+        }\\n+        if (!(obj instanceof PasswordProperty)) {\\n+            return false;\\n+        }\\n+        PasswordProperty other = (PasswordProperty) obj;\\n+        if (_default == null) {\\n+            if (other._default != null) {\\n+                return false;\\n+            }\\n+        } else if (!_default.equals(other._default)) {\\n+            return false;\\n+        }\\n+        if (_enum == null) {\\n+            if (other._enum != null) {\\n+                return false;\\n+            }\\n+        } else if (!_enum.equals(other._enum)) {\\n+            return false;\\n+        }\\n+        if (maxLength == null) {\\n+            if (other.maxLength != null) {\\n+                return false;\\n+            }\\n+        } else if (!maxLength.equals(other.maxLength)) {\\n+            return false;\\n+        }\\n+        if (minLength == null) {\\n+            if (other.minLength != null) {\\n+                return false;\\n+            }\\n+        } else if (!minLength.equals(other.minLength)) {\\n+            return false;\\n+        }\\n+        if (pattern == null) {\\n+            if (other.pattern != null) {\\n+                return false;\\n+            }\\n+        } else if (!pattern.equals(other.pattern)) {\\n+            return false;\\n+        }\\n+        return true;\\n+    }\\n+}\\n\\\\ No newline at end of file',\n",
       " 'changed_files': \"['modules/swagger-models/src/main/java/io/swagger/models/properties/PasswordProperty.java', 'modules/swagger-models/src/main/java/io/swagger/models/properties/ByteProperty.java']\",\n",
       " 'changed_files_exts': \"{'.java': 2}\",\n",
       " 'changed_files_count': 2,\n",
       " 'java_changed_files_count': 2,\n",
       " 'kt_changed_files_count': 0,\n",
       " 'py_changed_files_count': 0,\n",
       " 'code_changed_files_count': 2,\n",
       " 'pull_create_at': '2015-12-17 11:10:17',\n",
       " 'stars': 7244,\n",
       " 'language': 'Java',\n",
       " 'languages': \"{'Java': 2870337, 'Shell': 9095, 'Python': 4538}\",\n",
       " 'license': 'Apache License 2.0',\n",
       " 'repo_symbols_count': 567005,\n",
       " 'repo_tokens_count': 109253,\n",
       " 'repo_lines_count': 17859,\n",
       " 'repo_files_without_tests_count': 163,\n",
       " 'changed_symbol_count': 0,\n",
       " 'changed_tokens_count': 0,\n",
       " 'changed_lines_count': 0,\n",
       " 'changed_files_without_tests_count': 0}"
      ]
     },
     "execution_count": 40,
     "metadata": {},
     "output_type": "execute_result"
    }
   ],
   "source": [
    "dfs_stats['java'][9]"
   ]
  },
  {
   "cell_type": "code",
   "execution_count": 32,
   "id": "a4743369a4bfaa6e",
   "metadata": {
    "collapsed": false,
    "jupyter": {
     "outputs_hidden": false
    }
   },
   "outputs": [],
   "source": [
    "dfs_stats = {\n",
    "    category: dfs[category].map(lambda dp: add_stats(dp, category)) for category in ['py', 'kt', 'java']\n",
    "}"
   ]
  },
  {
   "cell_type": "code",
   "execution_count": 48,
   "id": "69393d1a-6770-496b-af7e-b8331e4bbab7",
   "metadata": {},
   "outputs": [],
   "source": [
    "import matplotlib.pyplot as plt\n",
    "import seaborn as sns\n",
    "import numpy as np\n",
    "\n",
    "def plot_dist(column: str, xlim, bins):\n",
    "    plt.figure(figsize=(9, 5))\n",
    "    data = []\n",
    "    for i, category in enumerate(dfs_stats.keys()):\n",
    "        # plt.subplot(3, 1, i + 1)\n",
    "        data += dfs_stats[category][column]\n",
    "    plt.hist(data, bins=bins)\n",
    "    plt.xlim(xlim)\n",
    "    plt.ylabel(category)\n",
    "    print(category)\n",
    "    print('max: ', np.max(data))\n",
    "    print('min: ', np.min(data))\n",
    "    print('avg:', np.mean(data))\n",
    "    plt.xlabel(column)\n",
    "    plt.show()"
   ]
  },
  {
   "cell_type": "code",
   "execution_count": 49,
   "id": "b1b1044d-d5e1-4245-a6a8-e9245c0b7ed5",
   "metadata": {},
   "outputs": [
    {
     "name": "stdout",
     "output_type": "stream",
     "text": [
      "java\n",
      "max:  321\n",
      "min:  0\n",
      "avg: 42.55555555555556\n"
     ]
    },
    {
     "data": {
      "image/png": "[encoded data removed]",
      "text/plain": [
       "<Figure size 900x500 with 1 Axes>"
      ]
     },
     "metadata": {},
     "output_type": "display_data"
    }
   ],
   "source": [
    "plot_dist('changed_lines_count', [0, 320], 30)"
   ]
  },
  {
   "cell_type": "code",
   "execution_count": 50,
   "id": "0e65ed6d-1434-4e04-beda-4c706d37a72b",
   "metadata": {},
   "outputs": [
    {
     "name": "stdout",
     "output_type": "stream",
     "text": [
      "java\n",
      "max:  401323\n",
      "min:  195\n",
      "avg: 63992.031746031746\n"
     ]
    },
    {
     "data": {
      "image/png": "[encoded data removed]",
      "text/plain": [
       "<Figure size 900x500 with 1 Axes>"
      ]
     },
     "metadata": {},
     "output_type": "display_data"
    }
   ],
   "source": [
    "plot_dist('repo_lines_count', [0, 60000], 100)"
   ]
  },
  {
   "cell_type": "code",
   "execution_count": 51,
   "id": "a409f5e9dd884e75",
   "metadata": {
    "collapsed": false,
    "jupyter": {
     "outputs_hidden": false
    }
   },
   "outputs": [
    {
     "name": "stdout",
     "output_type": "stream",
     "text": [
      "java\n",
      "max:  2875\n",
      "min:  2\n",
      "avg: 473.42857142857144\n"
     ]
    },
    {
     "data": {
      "image/png": "[encoded data removed]",
      "text/plain": [
       "<Figure size 900x500 with 1 Axes>"
      ]
     },
     "metadata": {},
     "output_type": "display_data"
    }
   ],
   "source": [
    "plot_dist('repo_files_without_tests_count', [0, 500], 100)"
   ]
  },
  {
   "cell_type": "code",
   "execution_count": 52,
   "id": "d1323d860236c444",
   "metadata": {
    "collapsed": false,
    "jupyter": {
     "outputs_hidden": false
    }
   },
   "outputs": [
    {
     "name": "stdout",
     "output_type": "stream",
     "text": [
      "java\n",
      "max:  15\n",
      "min:  0\n",
      "avg: 2.0\n"
     ]
    },
    {
     "data": {
      "image/png": "[encoded data removed]",
      "text/plain": [
       "<Figure size 900x500 with 1 Axes>"
      ]
     },
     "metadata": {},
     "output_type": "display_data"
    }
   ],
   "source": [
    "plot_dist('changed_files_without_tests_count', [0, 15], 10)"
   ]
  },
  {
   "cell_type": "code",
   "execution_count": 61,
   "id": "6a025b0dd67c78b6",
   "metadata": {
    "collapsed": false,
    "jupyter": {
     "outputs_hidden": false
    }
   },
   "outputs": [
    {
     "name": "stdout",
     "output_type": "stream",
     "text": [
      "java\n",
      "max:  3364325\n",
      "min:  1125\n",
      "avg: 575537.3174603175\n"
     ]
    },
    {
     "data": {
      "image/png": "[encoded data removed]",
      "text/plain": [
       "<Figure size 900x500 with 1 Axes>"
      ]
     },
     "metadata": {},
     "output_type": "display_data"
    }
   ],
   "source": [
    "plot_dist('repo_tokens_count', [0, 1000000], 100)"
   ]
  },
  {
   "cell_type": "code",
   "execution_count": 63,
   "id": "495bdcb3-0cca-4e7e-b01e-41e9977405d0",
   "metadata": {},
   "outputs": [
    {
     "name": "stdout",
     "output_type": "stream",
     "text": [
      "java\n",
      "max:  2307\n",
      "min:  0\n",
      "avg: 333.6507936507937\n"
     ]
    },
    {
     "data": {
      "image/png": "[encoded data removed]",
      "text/plain": [
       "<Figure size 900x500 with 1 Axes>"
      ]
     },
     "metadata": {},
     "output_type": "display_data"
    }
   ],
   "source": [
    "plot_dist('changed_tokens_count', [0, 1000000], 100)"
   ]
  },
  {
   "cell_type": "code",
   "execution_count": null,
   "id": "10436ffd-142b-4606-a9c4-ef52351d26d4",
   "metadata": {},
   "outputs": [],
   "source": []
  }
 ],
 "metadata": {
  "kernelspec": {
   "display_name": "Python 3 (ipykernel)",
   "language": "python",
   "name": "python3"
  },
  "language_info": {
   "codemirror_mode": {
    "name": "ipython",
    "version": 3
   },
   "file_extension": ".py",
   "mimetype": "text/x-python",
   "name": "python",
   "nbconvert_exporter": "python",
   "pygments_lexer": "ipython3",
   "version": "3.10.13"
  }
 },
 "nbformat": 4,
 "nbformat_minor": 5
}
